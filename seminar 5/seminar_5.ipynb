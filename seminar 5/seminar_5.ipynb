{
 "cells": [
  {
   "attachments": {
    "f0c27e5c-282c-4bfe-8bae-58c1e45d0b85.png": {
     "image/png": "[encoded data removed]"
    }
   },
   "cell_type": "markdown",
   "id": "de38ce41-bfba-4406-be16-3052c6e064a6",
   "metadata": {},
   "source": [
    "# Напомним, что\n",
    "Семинарист: Максим Игоревич Макаров\n",
    "\n",
    "[Чат семинаров в Telegram](https://t.me/+vMUJqgvseUk0Y2Iy)\n",
    "\n",
    "![изображение.png](attachment:f0c27e5c-282c-4bfe-8bae-58c1e45d0b85.png)\n",
    "\n",
    "# Семинар 5"
   ]
  },
  {
   "attachments": {
    "0d8769c6-fbd5-4b1a-b69f-0dc1ea1de413.png": {
     "image/png": "[encoded data removed]"
    }
   },
   "cell_type": "markdown",
   "id": "f7fb2906-4ff8-4a2d-8fa6-652a1204813e",
   "metadata": {},
   "source": [
    "# Входной квиз на проверку остаточных знаний\n",
    "\n",
    "[Ссылка на квиз](https://forms.yandex.ru/cloud/67a8ed88068ff04595fe8f40/)\n",
    "\n",
    "![изображение.png](attachment:0d8769c6-fbd5-4b1a-b69f-0dc1ea1de413.png)"
   ]
  },
  {
   "cell_type": "markdown",
   "id": "5839c00c-cc12-4d71-be68-29c2965c5791",
   "metadata": {},
   "source": [
    "1) Какие алгоритмические конструкции здесь присутвтуют?\n",
    "2) Что делает алгоритм?\n",
    "```\n",
    "АЛГОРИТМ Таблица\n",
    "НАЧАЛО\n",
    "  ВВОД N\n",
    "  ДЛЯ i ОТ 1 ДО N  \n",
    "    ДЛЯ j ОТ 1 ДО N  \n",
    "      ЕСЛИ i * j > 50 ТО  \n",
    "        ВЫВОД \"Превышение\"\n",
    "      ИНАЧЕ  \n",
    "        ВЫВОД i * j\n",
    "      КОНЕЦ ЕСЛИ\n",
    "    КОНЕЦ ДЛЯ\n",
    "  КОНЕЦ ДЛЯ\n",
    "КОНЕЦ\n",
    "```"
   ]
  },
  {
   "cell_type": "markdown",
   "id": "8a6d3f97-fd78-4dab-bd6e-0da84545935c",
   "metadata": {},
   "source": [
    "**Суперпозиция** — это функция, полученная из некоторого множества функций путём подстановки одной функции в другую или отождествления переменных. Она позволяет создавать сложные программы из более простых блоков кода, делая код более читаемым, модульным и лёгким в поддержке.\n",
    "\n",
    "Например, если есть две функции f(x) и g(x), то их суперпозицией является h(x)=f(g(x)).\n",
    "\n",
    "**Рекурсия** — это поведение функции, при котором она вызывает сама себя. "
   ]
  },
  {
   "cell_type": "code",
   "execution_count": null,
   "id": "5bacf21d-a60b-4df4-beb3-499f725f54db",
   "metadata": {},
   "outputs": [],
   "source": []
  }
 ],
 "metadata": {
  "kernelspec": {
   "display_name": "Python 3 (ipykernel)",
   "language": "python",
   "name": "python3"
  },
  "language_info": {
   "codemirror_mode": {
    "name": "ipython",
    "version": 3
   },
   "file_extension": ".py",
   "mimetype": "text/x-python",
   "name": "python",
   "nbconvert_exporter": "python",
   "pygments_lexer": "ipython3",
   "version": "3.12.3"
  }
 },
 "nbformat": 4,
 "nbformat_minor": 5
}
