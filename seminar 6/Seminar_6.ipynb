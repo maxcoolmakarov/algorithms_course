{
 "cells": [
  {
   "cell_type": "markdown",
   "id": "22932a34-4d9b-4553-bd8a-747fe261b6ea",
   "metadata": {},
   "source": [
    "# Семинар 6\n",
    "\n",
    "[Ссылка на квиз семинара](https://forms.yandex.ru/cloud/67cec468493639c9a012dce9/)"
   ]
  },
  {
   "cell_type": "markdown",
   "id": "6238a2f9-de6b-42a7-a7ca-865b395543a3",
   "metadata": {},
   "source": [
    "<details>\n",
    "  <summary>Ответ на последнее задание квиза</summary>\n",
    "  <img src=\"./img/struct_graph.png\" alt=\"Описание изображения\">\n",
    "</details>\n"
   ]
  },
  {
   "cell_type": "markdown",
   "id": "a436f213-0480-4ca2-a457-ab412127792b",
   "metadata": {},
   "source": [
    "## Задание 1\n",
    "\n",
    "Написать на псевдокоде алгоритм вывода на экран первых 15 натуральных чисел"
   ]
  },
  {
   "cell_type": "markdown",
   "id": "e459532d-e9ad-4bf6-b4d1-47e724300760",
   "metadata": {},
   "source": [
    "begin\n",
    "    number = 1\n",
    "    do\n",
    "        print number\n",
    "        number = number + 1\n",
    "    while number < 16\n",
    "end"
   ]
  },
  {
   "cell_type": "code",
   "execution_count": null,
   "id": "afcfc4eb-6230-4148-a042-548097f15e4a",
   "metadata": {},
   "outputs": [],
   "source": [
    "begin\n",
    "    number = 1\n",
    "    while number < 16\n",
    "        print number\n",
    "        number = number + 1\n",
    "end"
   ]
  },
  {
   "cell_type": "markdown",
   "id": "94d2ecab-e535-4af4-a164-567aac193b70",
   "metadata": {},
   "source": [
    "## Задача 2 (Вспоминаем типы величин)\n",
    "\n",
    "### Основные типы величин:\n",
    "<details>\n",
    "  <summary>Числовые типы</summary>\n",
    "\n",
    "  - **Целые числа (integer, int):** `-5, 0, 42`\n",
    "  - **Числа с плавающей запятой (float, double):** `3.14, -0.001, 2.7e5`\n",
    "  - **Длинная арифметика (bigint, decimal):** для очень больших чисел\n",
    "\n",
    "</details>\n",
    "\n",
    "<details>\n",
    "  <summary>Логический тип (Boolean)</summary>\n",
    "\n",
    "  - **Может быть только** `true` или `false`.\n",
    "\n",
    "</details>\n",
    "\n",
    "<details>\n",
    "  <summary>Символьные и строковые типы</summary>\n",
    "\n",
    "  - **Символ (char) – хранит один символ:** `'A', '7', '?'`\n",
    "  - **Строка (string) – последовательность символов:** `\"Hello, world!\"`\n",
    "\n",
    "</details>\n",
    "\n",
    "<details>\n",
    "  <summary>Коллекции (массивы, списки, множества, словари)</summary>\n",
    "\n",
    "  - **Массив (array) – список элементов одного типа**(в питоне не обязательно) `[-5, 0, 42, -5]`\n",
    "  - **Множество (set) – уникальные элементы, без повторений** `[-5, 0, 42, -6]`\n",
    "  - **Словарь (dict, map, hashmap) – набор пар ключ → значение**  `{\"monday\": 1, \"tuesday\": 2, \"sunday\": 7}`\n",
    "\n",
    "</details>\n",
    "\n",
    "### Операции над величинами\n",
    "\n",
    "<details>\n",
    "  <summary>1. Арифметические операции (для чисел)</summary>\n",
    "\n",
    "  - `+` – сложение  \n",
    "  - `-` – вычитание  \n",
    "  - `*` – умножение  \n",
    "  - `/` – деление  \n",
    "  - `%` – остаток от деления  \n",
    "\n",
    "</details>\n",
    "\n",
    "<details>\n",
    "  <summary>2. Операции сравнения (для чисел, строк, булевых значений)</summary>\n",
    "\n",
    "  - `==` – равно  \n",
    "  - `!=` – не равно  \n",
    "  - `<, >, <=, >=` – сравнение значений  \n",
    "\n",
    "</details>\n",
    "\n",
    "<details>\n",
    "  <summary>3. Логические операции (для Boolean)</summary>\n",
    "\n",
    "  - `AND (&&, and)` – логическое И  \n",
    "  - `OR (||, or)` – логическое ИЛИ  \n",
    "  - `NOT (!, not)` – логическое отрицание  \n",
    "\n",
    "</details>\n",
    "\n",
    "<details>\n",
    "  <summary>4. Побитовые операции (для целых чисел)</summary>\n",
    "\n",
    "  - `&` – побитовое И  \n",
    "  - `|` – побитовое ИЛИ  \n",
    "  - `^` – исключающее ИЛИ  \n",
    "  - `~` – побитовое отрицание  \n",
    "  - `<<, >>` – сдвиг влево/вправо  \n",
    "\n",
    "</details>\n",
    "\n",
    "<details>\n",
    "  <summary>5. Операции над строками</summary>\n",
    "\n",
    "  - `+` – конкатенация (склеивание строк)  \n",
    "  - `len(str)` – длина строки  \n",
    "  - `str[i]` – доступ к символу  \n",
    "\n",
    "</details>\n",
    "\n",
    "<details>\n",
    "  <summary>6. Операции с коллекциями</summary>\n",
    "\n",
    "  - `list.append(x)` – добавить элемент в список  \n",
    "  - `dict[key]` – доступ к элементу словаря  \n",
    "  - `set.add(x)` – добавить элемент в множество  \n",
    "\n",
    "</details>\n"
   ]
  },
  {
   "cell_type": "code",
   "execution_count": 3,
   "id": "7fbd5c5b-4b9a-422e-ae41-52a893cdd85d",
   "metadata": {},
   "outputs": [
    {
     "data": {
      "text/plain": [
       "7.199999999999999"
      ]
     },
     "execution_count": 3,
     "metadata": {},
     "output_type": "execute_result"
    }
   ],
   "source": [
    "1.2 + 2.4 + 3.6"
   ]
  },
  {
   "cell_type": "code",
   "execution_count": 2,
   "id": "ec289472-307a-4b6f-a62b-4f573bf29d3f",
   "metadata": {},
   "outputs": [
    {
     "data": {
      "text/plain": [
       "0.6000000000000001"
      ]
     },
     "execution_count": 2,
     "metadata": {},
     "output_type": "execute_result"
    }
   ],
   "source": [
    "0.2 + 0.2 + 0.2"
   ]
  },
  {
   "cell_type": "markdown",
   "id": "bfe503ba-8450-4e19-ae59-e53b24ae6d1b",
   "metadata": {},
   "source": [
    "# Fun things"
   ]
  },
  {
   "cell_type": "code",
   "execution_count": 1,
   "id": "6b06173a-0ea3-42d2-8671-b85376114b28",
   "metadata": {},
   "outputs": [
    {
     "data": {
      "text/plain": [
       "False"
      ]
     },
     "execution_count": 1,
     "metadata": {},
     "output_type": "execute_result"
    }
   ],
   "source": [
    "0.2 + 0.2 + 0.2 == 0.6"
   ]
  },
  {
   "cell_type": "code",
   "execution_count": 26,
   "id": "6ecef0cb-ba5d-4a9d-954a-539e40375f93",
   "metadata": {},
   "outputs": [
    {
     "data": {
      "text/plain": [
       "True"
      ]
     },
     "execution_count": 26,
     "metadata": {},
     "output_type": "execute_result"
    }
   ],
   "source": [
    "1.3 + 2.0 == 3.3"
   ]
  },
  {
   "cell_type": "code",
   "execution_count": 22,
   "id": "84581aa5-b9a6-4b22-ab52-497dbf0ebfe9",
   "metadata": {},
   "outputs": [
    {
     "data": {
      "text/plain": [
       "False"
      ]
     },
     "execution_count": 22,
     "metadata": {},
     "output_type": "execute_result"
    }
   ],
   "source": [
    "1.2 + 2.4 + 3.6 == 7.2"
   ]
  },
  {
   "cell_type": "code",
   "execution_count": 23,
   "id": "43a1e80a-4780-482f-bb4d-ff265b472221",
   "metadata": {},
   "outputs": [
    {
     "data": {
      "text/plain": [
       "'0.1 ≈ 3602879701896397 / 36028797018963968'"
      ]
     },
     "execution_count": 23,
     "metadata": {},
     "output_type": "execute_result"
    }
   ],
   "source": [
    "numerator, denominator = (0.1).as_integer_ratio()\n",
    "f\"0.1 ≈ {numerator} / {denominator}\""
   ]
  },
  {
   "cell_type": "code",
   "execution_count": 20,
   "id": "2970cbb5-7135-4a47-bb69-2f3b2b7ac3f7",
   "metadata": {},
   "outputs": [
    {
     "data": {
      "text/plain": [
       "'0.1000000000000000055511151231257827021181583404541015625'"
      ]
     },
     "execution_count": 20,
     "metadata": {},
     "output_type": "execute_result"
    }
   ],
   "source": [
    "format(numerator / denominator, \".55f\")"
   ]
  },
  {
   "cell_type": "markdown",
   "id": "da91501f-5b89-4049-a3ab-e2618c098bd5",
   "metadata": {},
   "source": [
    "Практика написания прграмм в Google Colab\n",
    "\n",
    "[Ссылка на Colab](https://colab.research.google.com/drive/1Hh9io0u-T3j_zcLtQibgCEDKXv6MZLap?usp=sharing)\n"
   ]
  },
  {
   "cell_type": "markdown",
   "id": "b76f93db-c596-4963-9715-863bf5d618f8",
   "metadata": {},
   "source": [
    "## Задача 3 - Фуршет\n",
    "\n",
    "В кафе МГЮА подают три вида блюд, и у каждого есть своя цена:\n",
    "\n",
    "    Суп\n",
    "        Борщ – 150 руб.\n",
    "        Томатный – 130 руб.\n",
    "        Грибной – 140 руб.\n",
    "\n",
    "    Основное блюдо\n",
    "        Котлета – 200 руб.\n",
    "        Рыба – 250 руб.\n",
    "        Курица – 220 руб.\n",
    "\n",
    "    Напиток\n",
    "        Чай – 50 руб.\n",
    "        Кофе – 100 руб.\n",
    "        Сок – 80 руб.\n",
    "\n",
    "Задача:\n",
    "Напишите программу, которая перебирает все возможные варианты обеда, вычисляет их стоимость и выводит в виде списка."
   ]
  },
  {
   "cell_type": "code",
   "execution_count": null,
   "id": "8b3cdeae-d4fe-4eeb-a7b6-5d5f1c38c896",
   "metadata": {},
   "outputs": [],
   "source": [
    "# Меню и цены\n",
    "soups = {\"Борщ\": 150, \"Томатный\": 130, \"Грибной\": 140}\n",
    "mains = {\"Котлета\": 200, \"Рыба\": 250, \"Курица\": 220}\n",
    "drinks = {\"Чай\": 50, \"Кофе\": 100, \"Сок\": 80}\n",
    "\n",
    "# Перебираем все комбинации и считаем стоимость\n",
    "for <сюда ваш код>, <сюда ваш код> in soups.items():\n",
    "    for <сюда ваш код>, <сюда ваш код> in <сюда ваш код>:\n",
    "        for <сюда ваш код>, <сюда ваш код> in <сюда ваш код>:\n",
    "            total_price = soup_price + main_price + drink_price\n",
    "            print(f\"{soup}, {main}, {drink} – {total_price} руб.\")\n"
   ]
  },
  {
   "cell_type": "markdown",
   "id": "73333f76-0402-4218-9d55-69522f328f26",
   "metadata": {},
   "source": [
    "# Домашнее задание\n",
    "\n",
    "* Придумать алгоритм содержащий цикл с предусловием и нарисовать его блок-схему.\n",
    "* Придумать алгоритм содержащий цикл с постусловием и описать его на псевдокоде.\n",
    "* Отобразить в виде структурограммы алгоритм выбора большего числа из двух\n",
    "* Описать алгоритм выдачи заявителю завещания, подсвечивая основные алгоритмические конструкции (жирным и поясняя, цикл, ветвление итд)\n"
   ]
  },
  {
   "cell_type": "markdown",
   "id": "f6e8539e-7ebc-4b98-98a2-bfa515f5fb4e",
   "metadata": {},
   "source": [
    "# Дополнительные вопросы на семинар\n",
    "* Как называется процесс, при котором задается последовательное выполнение однотипных операций, представляющих движение от предыдущего результата вычислений к последующему, при этом все вычисления обязательно выполняются с помощью одной и той же математической операции?\n",
    "* Способы отображения результатов при проектировании визуальных алгоритмов\n",
    "* Определите цикл по обязательным условиям: - некоторая переменная изменяет свое значение с некоторым шагом; - для одного значения тело цикла выполняется один раз:\n",
    "* Определите графовый алгоритм по обязательным условиям: - поиск проходит по ребрам графа с минимальным суммарным весом; - модель абстрактного автомата для победы в игре (например):"
   ]
  },
  {
   "cell_type": "code",
   "execution_count": null,
   "id": "052cde00-ae9b-46c2-93cc-409da7a7ce92",
   "metadata": {},
   "outputs": [],
   "source": [
    "10001100\n",
    "11100001"
   ]
  }
 ],
 "metadata": {
  "kernelspec": {
   "display_name": "Python 3 (ipykernel)",
   "language": "python",
   "name": "python3"
  },
  "language_info": {
   "codemirror_mode": {
    "name": "ipython",
    "version": 3
   },
   "file_extension": ".py",
   "mimetype": "text/x-python",
   "name": "python",
   "nbconvert_exporter": "python",
   "pygments_lexer": "ipython3",
   "version": "3.9.6"
  }
 },
 "nbformat": 4,
 "nbformat_minor": 5
}
