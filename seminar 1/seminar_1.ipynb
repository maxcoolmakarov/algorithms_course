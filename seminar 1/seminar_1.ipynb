{
 "cells": [
  {
   "attachments": {
    "0416afbc-baf9-41b0-a3ca-0ae199aea344.png": {
     "image/png": "[encoded data removed]"
    }
   },
   "cell_type": "markdown",
   "id": "7802520c-d3b7-4843-8f87-68c825e4bd96",
   "metadata": {},
   "source": [
    "# Пролог\n",
    "Семинарист: Максим Игоревич Макаров\n",
    "\n",
    "MIPT, SKOLKOVO School of Management\n",
    "\n",
    "[Чат семинаров в Telegram](https://t.me/+vMUJqgvseUk0Y2Iy)\n",
    "\n",
    "![image.png](attachment:0416afbc-baf9-41b0-a3ca-0ae199aea344.png)\n",
    "\n",
    "# Семинар 1\n",
    "## Алгоритмы в нашей жизни"
   ]
  },
  {
   "cell_type": "markdown",
   "id": "b0837a14-9e86-4cb7-b369-d5b6084b5e6d",
   "metadata": {},
   "source": [
    "**Алгоритм** — совокупность (устар. последовательность) точно заданных правил решения некоторого класса задач или набор инструкций, описывающих порядок действий исполнителя для решения определённой задачи. Каждый алгоритм предназначен для определенного Исполнителя.\n",
    "\n",
    "**Исполнитель алгоритма** – это объект (человек, животное, машина), способный выполнить определенный набор команд.\n",
    "\n",
    "### Свойства алгоритма:\n",
    "#### Дискретность\n",
    "Означает расчлененность определяемого алгоритмом вычислительного процесса на отдельные этапы, возможность выполнения которых исполнителем (человеком, компьютером и т.д.) не вызывает сомнений;\n",
    "- Удовлетворяет:\n",
    "\n",
    "    Сортировка пузырьком (Bubble Sort): Каждый шаг алгоритма четко определен — сравниваются пары элементов и, при необходимости, они меняются местами. Процесс повторяется до тех пор, пока массив не будет отсортирован."
   ]
  },
  {
   "cell_type": "code",
   "execution_count": null,
   "id": "584a1e71-61dc-465c-bb36-f3943cede27d",
   "metadata": {},
   "outputs": [],
   "source": [
    "def bubble_sort(arr):\n",
    "    n = len(arr)\n",
    "    for i in range(n):\n",
    "        for j in range(0, n-i-1):\n",
    "            if arr[j] > arr[j+1]:\n",
    "                arr[j], arr[j+1] = arr[j+1], arr[j]"
   ]
  },
  {
   "cell_type": "markdown",
   "id": "baaf0cc5-1bb1-4564-b24f-81f9ca5e2bd9",
   "metadata": {},
   "source": [
    "- Не удовлетворяет:\n",
    "\n",
    "    Алгоритм угадывания числа без четких шагов: Если алгоритм основан на случайных попытках без определенной стратегии или последовательности действий, он не является дискретным."
   ]
  },
  {
   "cell_type": "code",
   "execution_count": null,
   "id": "9983108e-c92a-4a57-a1b3-edc834265f8c",
   "metadata": {},
   "outputs": [],
   "source": [
    "import random\n",
    "\n",
    "def guess_number(target):\n",
    "    guess = None\n",
    "    while guess != target:\n",
    "        guess = random.randint(1, 100)\n",
    "        print(f\"Попытка: {guess}\")\n",
    "        "
   ]
  },
  {
   "cell_type": "markdown",
   "id": "c29cb6e6-e161-4d0e-ba89-76200f418e6a",
   "metadata": {},
   "source": [
    "#### Понятность\n",
    "Свойство предполагает, что алгоритм включает только действия, понятные Исполнителю;"
   ]
  },
  {
   "cell_type": "markdown",
   "id": "015234b7-9d23-487c-a2c8-73a3b085ec2d",
   "metadata": {},
   "source": [
    "#### Определённость\n",
    "Означает получение однозначного результата вычислительного процecca при заданных исходных данных. Благодаря этому свойству процесс выполнения алгоритма носит механический характер;\n",
    "\n",
    "- Удовлетворяет:\n",
    "\n",
    "    Алгоритм Евклида для нахождения НОД (Наибольшего Общего Делителя):"
   ]
  },
  {
   "cell_type": "code",
   "execution_count": null,
   "id": "e2902932-89c3-4bf4-9538-50e0de3633c4",
   "metadata": {},
   "outputs": [],
   "source": [
    "def gcd(a, b):\n",
    "    while b != 0:\n",
    "        a, b = b, a % b\n",
    "    return a"
   ]
  },
  {
   "cell_type": "markdown",
   "id": "a874486f-b27a-4ceb-9320-cf2daaa8ea46",
   "metadata": {},
   "source": [
    "    Каждый шаг четко определен: заменяем a на b, а b на a % b до тех пор, пока b не станет нулем.\n",
    "\n",
    "- Не удовлетворяет:\n",
    "\n",
    "    Алгоритм без четких инструкций: Алгоритм, описанный неформально или с использованием неоднозначных терминов, где действия не определены однозначно.\n",
    "\n",
    "    Пример: \"Продолжай делить число на случайные делители, пока не найдешь нужный.\""
   ]
  },
  {
   "cell_type": "markdown",
   "id": "c2d6a117-9c96-49bd-acbe-8bd01c450b4e",
   "metadata": {},
   "source": [
    "#### Результативность\n",
    "Указывает на наличие таких исходных данных, для которых реализуемый по заданному алгоритму вычислительный процесс должен через конечное число шагов остановиться и выдать искомый результат;\n",
    "\n",
    "- Удовлетворяет:\n",
    "\n",
    "    Алгоритм нахождения суммы элементов массива:"
   ]
  },
  {
   "cell_type": "code",
   "execution_count": null,
   "id": "7bbc9ee2-4556-476d-8888-3b8a6c0efe89",
   "metadata": {},
   "outputs": [],
   "source": [
    "def sum_array(arr):\n",
    "    total = 0\n",
    "    for num in arr:\n",
    "        total += num\n",
    "    return total"
   ]
  },
  {
   "cell_type": "markdown",
   "id": "24c82148-bb6c-4c02-958d-3c158ed3c296",
   "metadata": {},
   "source": [
    "    Всегда возвращает сумму элементов массива.\n",
    "\n",
    "- Не удовлетворяет:\n",
    "\n",
    "    Алгоритм, который может зависнуть или не вернуть результат:"
   ]
  },
  {
   "cell_type": "code",
   "execution_count": null,
   "id": "d28c4357-8c24-470f-9057-9d3d9023aec5",
   "metadata": {},
   "outputs": [],
   "source": [
    "def conditional_sum(arr):\n",
    "    total = 0\n",
    "    for num in arr:\n",
    "        if num < 0:\n",
    "            while num < 0:\n",
    "                pass  # Зависание при отрицательном числе\n",
    "        total += num\n",
    "    return total"
   ]
  },
  {
   "cell_type": "markdown",
   "id": "e450847a-fade-46aa-9a5e-b3b314e07fa0",
   "metadata": {},
   "source": [
    "Если массив содержит отрицательные числа, алгоритм зациклится и не вернет результат."
   ]
  },
  {
   "cell_type": "markdown",
   "id": "53dab050-931a-406f-8ed6-8fc7e10cd7b1",
   "metadata": {},
   "source": [
    "#### Массовость \n",
    "Свойство предполагает, что алгоритм должен быть пригоден для решения всех задач данного типа;\n",
    "- Удовлетворяет:\n",
    "  \n",
    "  Нахождения максимального числа"
   ]
  },
  {
   "cell_type": "code",
   "execution_count": null,
   "id": "079ccb90-3dc0-4fac-913f-2c8b06db571b",
   "metadata": {},
   "outputs": [],
   "source": [
    "def find_max(arr):\n",
    "    max_value = arr[0]\n",
    "    for num in arr:\n",
    "        if num > max_value:\n",
    "            max_value = num\n",
    "    return max_value"
   ]
  },
  {
   "cell_type": "markdown",
   "id": "53769183-4a31-4deb-ac57-f38e900d021e",
   "metadata": {},
   "source": [
    "- Не удовлетворяет массовости:\n",
    "\n",
    "    Алгоритм нахождения максимального четного числа:"
   ]
  },
  {
   "cell_type": "code",
   "execution_count": null,
   "id": "a72e4874-190c-4aae-8b2d-dd91e37e53b6",
   "metadata": {},
   "outputs": [],
   "source": [
    "def find_max_even(arr):\n",
    "    max_even = None\n",
    "    for num in arr:\n",
    "        if num % 2 == 0:\n",
    "            if max_even is None or num > max_even:\n",
    "                max_even = num\n",
    "    return max_even"
   ]
  },
  {
   "cell_type": "markdown",
   "id": "5622625c-0a56-4112-9975-81c5743b7533",
   "metadata": {},
   "source": [
    "#### Конечность \n",
    "Каждое из действий и весь алгоритм в целом обязательно завершаются.\n",
    "\n",
    "- Удовлетворяет:\n",
    "\n",
    "    Линейный поиск (Linear Search):"
   ]
  },
  {
   "cell_type": "code",
   "execution_count": 21,
   "id": "4505381b-cab5-4a72-9668-9438e4d781e7",
   "metadata": {},
   "outputs": [],
   "source": [
    "def linear_search(arr, target):\n",
    "    for index, value in enumerate(arr):\n",
    "        if value == target:\n",
    "            return index\n",
    "    return -1"
   ]
  },
  {
   "cell_type": "markdown",
   "id": "ca176d63-41e0-44c8-8bf5-ead2a4c3a2bc",
   "metadata": {},
   "source": [
    "    Алгоритм завершится после проверки всех элементов массива или при нахождении искомого элемента.\n",
    "\n",
    "- Не удовлетворяет:\n",
    "\n",
    "    Бесконечный цикл без условия выхода:"
   ]
  },
  {
   "cell_type": "code",
   "execution_count": 22,
   "id": "a0777670-6b29-4b70-ace5-013bfdafcc3b",
   "metadata": {},
   "outputs": [],
   "source": [
    "A = [10, -17, 78, 23, -10]"
   ]
  },
  {
   "cell_type": "code",
   "execution_count": 25,
   "id": "9cf47df3-6736-41f1-80bc-72e1ccad68be",
   "metadata": {},
   "outputs": [
    {
     "data": {
      "text/plain": [
       "-1"
      ]
     },
     "execution_count": 25,
     "metadata": {},
     "output_type": "execute_result"
    }
   ],
   "source": [
    "linear_search(A, 5)"
   ]
  },
  {
   "cell_type": "code",
   "execution_count": 4,
   "id": "013e7826-2b74-414e-ab24-38c7fc3fb8d6",
   "metadata": {},
   "outputs": [],
   "source": [
    "import time\n",
    "def infinite_loop():\n",
    "    while True:\n",
    "        print(\"Этот цикл никогда не закончится.\")\n",
    "        time.sleep(1)"
   ]
  },
  {
   "cell_type": "code",
   "execution_count": 6,
   "id": "a95fcdcf-9b73-47bb-ba87-35d9ebb6e320",
   "metadata": {},
   "outputs": [],
   "source": [
    "a = 5\n",
    "b = -89.5\n",
    "C = [10, -17, 78, 23, -10]\n",
    "D = [\"hello\", \"hi\", \"by\"]\n",
    "E = [\"hello\", 10, 8.8]"
   ]
  },
  {
   "cell_type": "code",
   "execution_count": 41,
   "id": "b2ebb602-3f6e-45e4-b56f-89d4bdaf5488",
   "metadata": {},
   "outputs": [
    {
     "data": {
      "text/plain": [
       "-10"
      ]
     },
     "execution_count": 41,
     "metadata": {},
     "output_type": "execute_result"
    }
   ],
   "source": [
    "C[4]"
   ]
  },
  {
   "cell_type": "code",
   "execution_count": 5,
   "id": "99714071-76ca-47fa-8720-2d65529c0fd9",
   "metadata": {},
   "outputs": [
    {
     "name": "stdout",
     "output_type": "stream",
     "text": [
      "Этот цикл никогда не закончится.\n",
      "Этот цикл никогда не закончится.\n",
      "Этот цикл никогда не закончится.\n",
      "Этот цикл никогда не закончится.\n",
      "Этот цикл никогда не закончится.\n",
      "Этот цикл никогда не закончится.\n",
      "Этот цикл никогда не закончится.\n",
      "Этот цикл никогда не закончится.\n",
      "Этот цикл никогда не закончится.\n",
      "Этот цикл никогда не закончится.\n",
      "Этот цикл никогда не закончится.\n",
      "Этот цикл никогда не закончится.\n",
      "Этот цикл никогда не закончится.\n",
      "Этот цикл никогда не закончится.\n",
      "Этот цикл никогда не закончится.\n",
      "Этот цикл никогда не закончится.\n",
      "Этот цикл никогда не закончится.\n",
      "Этот цикл никогда не закончится.\n",
      "Этот цикл никогда не закончится.\n",
      "Этот цикл никогда не закончится.\n",
      "Этот цикл никогда не закончится.\n",
      "Этот цикл никогда не закончится.\n",
      "Этот цикл никогда не закончится.\n",
      "Этот цикл никогда не закончится.\n",
      "Этот цикл никогда не закончится.\n",
      "Этот цикл никогда не закончится.\n",
      "Этот цикл никогда не закончится.\n",
      "Этот цикл никогда не закончится.\n",
      "Этот цикл никогда не закончится.\n",
      "Этот цикл никогда не закончится.\n",
      "Этот цикл никогда не закончится.\n",
      "Этот цикл никогда не закончится.\n",
      "Этот цикл никогда не закончится.\n",
      "Этот цикл никогда не закончится.\n",
      "Этот цикл никогда не закончится.\n"
     ]
    },
    {
     "ename": "KeyboardInterrupt",
     "evalue": "",
     "output_type": "error",
     "traceback": [
      "\u001b[0;31m---------------------------------------------------------------------------\u001b[0m",
      "\u001b[0;31mKeyboardInterrupt\u001b[0m                         Traceback (most recent call last)",
      "Cell \u001b[0;32mIn[5], line 1\u001b[0m\n\u001b[0;32m----> 1\u001b[0m \u001b[43minfinite_loop\u001b[49m\u001b[43m(\u001b[49m\u001b[43m)\u001b[49m\n",
      "Cell \u001b[0;32mIn[4], line 5\u001b[0m, in \u001b[0;36minfinite_loop\u001b[0;34m()\u001b[0m\n\u001b[1;32m      3\u001b[0m \u001b[38;5;28;01mwhile\u001b[39;00m \u001b[38;5;28;01mTrue\u001b[39;00m:\n\u001b[1;32m      4\u001b[0m     \u001b[38;5;28mprint\u001b[39m(\u001b[38;5;124m\"\u001b[39m\u001b[38;5;124mЭтот цикл никогда не закончится.\u001b[39m\u001b[38;5;124m\"\u001b[39m)\n\u001b[0;32m----> 5\u001b[0m     \u001b[43mtime\u001b[49m\u001b[38;5;241;43m.\u001b[39;49m\u001b[43msleep\u001b[49m\u001b[43m(\u001b[49m\u001b[38;5;241;43m1\u001b[39;49m\u001b[43m)\u001b[49m\n",
      "\u001b[0;31mKeyboardInterrupt\u001b[0m: "
     ]
    }
   ],
   "source": [
    "infinite_loop()"
   ]
  },
  {
   "cell_type": "markdown",
   "id": "aa92b329-09b0-42ce-a963-f1d1049d4b3a",
   "metadata": {},
   "source": [
    "Такой алгоритм никогда не завершится, так как отсутствует условие выхода из цикла."
   ]
  },
  {
   "cell_type": "markdown",
   "id": "7fffe092-5b4d-4e82-a22c-1232952b01e6",
   "metadata": {},
   "source": [
    "## Формы записи алгоритма"
   ]
  },
  {
   "cell_type": "markdown",
   "id": "69e32274-8eae-448a-9e77-92aa6314fc0a",
   "metadata": {},
   "source": [
    "### Блок-схема\n",
    "Блок-схема визуально отображает шаги выполнения алгоритма с использованием стандартных символов (прямоугольники для действий, ромбы для условий и т.д.)."
   ]
  },
  {
   "cell_type": "markdown",
   "id": "aa396c27-a0a0-4f59-8b31-9090fa4c4af5",
   "metadata": {},
   "source": [
    "![The San Juan Mountains are beautiful!](./max.drawio.png \"San Juan Mountains\")"
   ]
  },
  {
   "cell_type": "markdown",
   "id": "af3bbe88-29c4-4bac-95c2-351bdfbd4f3f",
   "metadata": {},
   "source": [
    "### Описание алгоритма на естественном языке\n",
    "1. Прочитать массив чисел.\n",
    "2. Присвоить переменной max значение первого элемента массива.\n",
    "3. Для каждого элемента массива начиная со второго:\n",
    "    - Если текущий элемент больше, чем max, то присвоить переменной max значение текущего элемента.\n",
    "\n",
    "4. После прохождения всех элементов массива вывести значение переменной max."
   ]
  },
  {
   "cell_type": "markdown",
   "id": "d7755996-0ec3-45c8-ac4a-b5a4d3484f7d",
   "metadata": {},
   "source": [
    "### Псевдокод\n",
    "Псевдокод — это способ записи алгоритма на условном языке, который не является настоящим языком программирования, но приближен к нему. Он предназначен для того, чтобы алгоритм был понятен независимо от конкретного языка программирования.\n",
    "\n",
    "```\n",
    "ALGORITHM FindMax(A):\n",
    "    INPUT: массив A\n",
    "    OUTPUT: максимальный элемент массива A\n",
    "\n",
    "    max = A[0]\n",
    "    FOR each element x in A:\n",
    "        IF x > max:\n",
    "            max = x\n",
    "    RETURN max\n",
    "```"
   ]
  },
  {
   "cell_type": "markdown",
   "id": "84b475b3-c733-4eba-ab61-a8d233cefbdf",
   "metadata": {},
   "source": [
    "### Язык программирования (Python)\n",
    "Пример реализации алгоритма на языке программирования Python:"
   ]
  },
  {
   "cell_type": "code",
   "execution_count": 1,
   "id": "039d2a61-a2fa-4b74-ad31-9fdbca8cbc8a",
   "metadata": {},
   "outputs": [],
   "source": [
    "def find_max(arr):\n",
    "    max_value = arr[0]\n",
    "    print(arr)\n",
    "    for num in arr:\n",
    "        print(num)\n",
    "        if num > max_value:\n",
    "            max_value = num\n",
    "    return max_value"
   ]
  },
  {
   "cell_type": "code",
   "execution_count": 2,
   "id": "bf2ce676-9f11-45e3-805d-354197536501",
   "metadata": {},
   "outputs": [
    {
     "name": "stdout",
     "output_type": "stream",
     "text": [
      "[-10, 0, 65, 0, 1000]\n",
      "-10\n",
      "0\n",
      "65\n",
      "0\n",
      "1000\n"
     ]
    },
    {
     "data": {
      "text/plain": [
       "1000"
      ]
     },
     "execution_count": 2,
     "metadata": {},
     "output_type": "execute_result"
    }
   ],
   "source": [
    "A = [-10, 0, 65, 0, 1000]\n",
    "\n",
    "find_max(A)"
   ]
  },
  {
   "cell_type": "code",
   "execution_count": null,
   "id": "2cfc05c8-8f74-4e21-8b6f-0a4194fbb0f2",
   "metadata": {},
   "outputs": [],
   "source": [
    "for i in [0, 2,3, ..., len(A)]:\n",
    "    num = A[i]"
   ]
  },
  {
   "cell_type": "code",
   "execution_count": 3,
   "id": "72847c4f-2a0b-41ab-9235-beb3ab3f1a34",
   "metadata": {},
   "outputs": [
    {
     "name": "stdout",
     "output_type": "stream",
     "text": [
      "0\n",
      "1\n",
      "2\n",
      "3\n",
      "4\n",
      "5\n",
      "6\n",
      "7\n",
      "8\n",
      "9\n"
     ]
    }
   ],
   "source": [
    "for i in range(0,10):\n",
    "    print (i)\n",
    "    "
   ]
  },
  {
   "cell_type": "code",
   "execution_count": null,
   "id": "e4b2f62c-64af-4f33-9810-d4d289b7bd0c",
   "metadata": {},
   "outputs": [],
   "source": [
    "while a<b:\n",
    "    "
   ]
  },
  {
   "cell_type": "markdown",
   "id": "db07f288-a485-4ee4-a59d-262b35a54053",
   "metadata": {},
   "source": [
    "Сравнение:\n",
    "- Блок-схема полезна для визуального представления алгоритма, особенно на начальных этапах разработки и обучения.\n",
    "- Описание на естественном языке помогает кратко объяснить логику алгоритма без использования формальных символов или синтаксиса.\n",
    "- Псевдокод приближен к программированию, но остаётся более абстрактным, помогая разработчикам перевести идею алгоритма на конкретный язык программирования.\n",
    "- Реализация на языке программирования — это готовая версия алгоритма, которую можно запустить и протестировать."
   ]
  },
  {
   "attachments": {
    "5fb99647-e43d-4ad3-a3c6-636303352cf4.png": {
     "image/png": "[encoded data removed]"
    }
   },
   "cell_type": "markdown",
   "id": "5278cf14-8a9d-47da-87d3-cffe69a8619f",
   "metadata": {},
   "source": [
    "![image.png](attachment:5fb99647-e43d-4ad3-a3c6-636303352cf4.png)"
   ]
  },
  {
   "cell_type": "markdown",
   "id": "41e3d249-2a66-444d-9b60-61da8a1d3843",
   "metadata": {},
   "source": [
    "### Вопросы\n",
    "https://forms.yandex.ru/cloud/6717bf5884227c1deb549ade/\n",
    "1. Почему определённость каждого шага важна для алгоритма?\n",
    "2. Какое свойство алгоритма обеспечивает его завершение после определённого количества шагов?\n",
    "3. Что происходит, если алгоритм не удовлетворяет свойству конечности?\n",
    "4. Как называется свойство алгоритма, которое требует получения корректного результата при выполнении?\n",
    "5. Что такое массовость алгоритма? Приведите пример.\n",
    "6. Почему корректность алгоритма важна?\n",
    "7. Как время выполнения алгоритма влияет на его эффективность?\n",
    "8. Может ли алгоритм быть полезным, если он не приводит к результату?\n",
    "9. Какое свойство алгоритма позволяет ему быть применимым для решения аналогичных задач с разными входными данными?"
   ]
  },
  {
   "cell_type": "code",
   "execution_count": null,
   "id": "b4740a02-5bc2-426d-8db8-9fb37e2464bc",
   "metadata": {},
   "outputs": [],
   "source": []
  },
  {
   "cell_type": "code",
   "execution_count": null,
   "id": "7d1c7fee-7123-4e1d-a469-a8a9fe26a0fb",
   "metadata": {},
   "outputs": [],
   "source": []
  },
  {
   "cell_type": "code",
   "execution_count": null,
   "id": "ddac5fcc-3dd0-4015-af09-4f443684748e",
   "metadata": {},
   "outputs": [],
   "source": []
  },
  {
   "cell_type": "code",
   "execution_count": null,
   "id": "318cff17-64f7-4bb4-a48c-109db4a0f960",
   "metadata": {},
   "outputs": [],
   "source": []
  },
  {
   "cell_type": "markdown",
   "id": "ae8b25d4-c9b5-4bbb-9882-3d1985eb0962",
   "metadata": {},
   "source": [
    "Самостоятельная работа\n",
    "\n",
    "1. Приведите примеры алгоритмов, которые обладают или не обладают рассмотренными выше свойствами.\n",
    "2. Описать алгоритм на языке псевдокода\n",
    "   1. Находится ли число a в массиве M\n",
    "   2. Есть ли в массиве четные числа\n",
    "     \n",
    "https://forms.yandex.ru/cloud/6717c5baf47e731f3a16192c/"
   ]
  },
  {
   "cell_type": "markdown",
   "id": "6358fbb4-f219-4f8b-bead-6f3d9f685d2c",
   "metadata": {},
   "source": [
    "## Типы данных"
   ]
  },
  {
   "cell_type": "code",
   "execution_count": 5,
   "id": "c22badd3-187d-4312-82d7-22fbc4b61950",
   "metadata": {},
   "outputs": [
    {
     "name": "stdout",
     "output_type": "stream",
     "text": [
      "<class 'bool'>\n",
      "<class 'bool'>\n",
      "<class 'int'>\n",
      "<class 'float'>\n",
      "<class 'str'>\n",
      "<class 'str'>\n"
     ]
    }
   ],
   "source": [
    "\"\"\" Data Types\n",
    "\n",
    "Logical: bool.\n",
    "Numeric: int, float.\n",
    "Text:    str.\n",
    "\"\"\"\n",
    "\n",
    "# Logical:\n",
    "print(type(True))    # bool\n",
    "print(type(False))   # bool\n",
    "\n",
    "# Numeric:\n",
    "print(type(5))       # int\n",
    "print(type(3.14))    # float\n",
    "\n",
    "# Text:\n",
    "print(type('a'))     # str\n",
    "print(type(\"a\"))     # str"
   ]
  },
  {
   "cell_type": "code",
   "execution_count": null,
   "id": "945d932f-d1bf-4e82-aad3-38f588acafbf",
   "metadata": {},
   "outputs": [],
   "source": [
    "\"\"\"Mathematical operations\n",
    "\n",
    "Addition:       \"+\"  # adds the values on either side of the operator.\n",
    "Substraction:   \"-\"  # subtracts the value on the right from the one on the left.\n",
    "Multiplication: \"*\"  # multiplies the values on either side of the operator.\n",
    "Division:       \"/\"  # divides the value on the left by the one on the right.\n",
    "Exponentiation: \"**\" # raises the first number to the power of the second.\n",
    "Floor Division: \"//\" # divides and returns the integer value of the quotient.\n",
    "Modulus:        \"%\"  # divides and returns the value of the remainder.\n",
    "\"\"\"\n",
    "\n",
    "print(\"Logical:\")\n",
    "print(\"All mathematical operations are avaliable for 'bool' type.\")\n",
    "\n",
    "print(\"\\nNumeric:\")\n",
    "print(\"All mathematical operations are avaliable for 'int', 'float' and 'complex' types.\")\n",
    "\n",
    "print(\"\\nText:\")\n",
    "print(f\"Addition (concatenate) is avaliable for 'str': \\t {'a' + 'b' + 'c'}\")\n",
    "\n",
    "print(\"\\nTypes combination:\")\n",
    "h = 'hello'\n",
    "print(f\"Combination of 'str' and 'int': {h * 3}\")\n",
    "\n",
    "print(\"\\nOther operations:\")\n",
    "s = 'abc'\n",
    "print(f\"String is indexed: {s[1]}, {s[0]}, {s[-1]}\")\n",
    "print(f\"String slicing: {s[1:3]}, {s[:2]}, {s[1:]}\")"
   ]
  },
  {
   "cell_type": "code",
   "execution_count": null,
   "id": "21e14d57-a8a5-49ec-98fa-2b60e6d79c01",
   "metadata": {},
   "outputs": [],
   "source": [
    "# True = 1, False = 0\n",
    "\n",
    "print(True + True)\n",
    "print(True - True)\n",
    "print(True * True)\n",
    "\n",
    "print()\n",
    "print(5 + True)\n",
    "print(5.1 + False)\n",
    "print(True + False)"
   ]
  },
  {
   "cell_type": "code",
   "execution_count": 6,
   "id": "01fcd896-e365-444b-a89a-5fc433ddb4a9",
   "metadata": {},
   "outputs": [
    {
     "name": "stdout",
     "output_type": "stream",
     "text": [
      "namenamename\n",
      "namenamename\n"
     ]
    }
   ],
   "source": [
    "print(\"name\" + \"name\" + \"name\")\n",
    "print(\"name\" * 3)"
   ]
  },
  {
   "cell_type": "code",
   "execution_count": null,
   "id": "7813cf28-b690-4cb9-911c-8e4110e331db",
   "metadata": {},
   "outputs": [],
   "source": [
    "print(5 / 3)\n",
    "print(type(5 / 3))\n",
    "\n",
    "print()\n",
    "print(6 / 3)\n",
    "print(type(6 / 3))\n",
    "\n",
    "print()\n",
    "print(6 // 3)\n",
    "print(type(6 // 3))\n",
    "\n",
    "print()\n",
    "print(5 // 3)\n",
    "print(type(5 // 3))"
   ]
  },
  {
   "cell_type": "code",
   "execution_count": null,
   "id": "c9f7cbdb-cd9c-43d6-a3ec-e6b7712b41c1",
   "metadata": {},
   "outputs": [],
   "source": [
    "print(type(0), type(0.0))"
   ]
  },
  {
   "cell_type": "code",
   "execution_count": null,
   "id": "0e3ab17c-29bb-445e-928f-01c43fb3381a",
   "metadata": {},
   "outputs": [],
   "source": [
    "print(0 // 3)\n",
    "print(type(0 // 3))\n",
    "\n",
    "print()\n",
    "print(0 / 3)\n",
    "print(type(0 / 3))"
   ]
  },
  {
   "cell_type": "code",
   "execution_count": null,
   "id": "c90b91e7-cbf7-4c7e-a7e6-a5efa24ba06f",
   "metadata": {},
   "outputs": [],
   "source": [
    "print(5.1 + 3.1)\n",
    "print(5.10 - 3.10) # oops https://docs.python.org/3/tutorial/floatingpoint.html\n",
    "print(5.1 * 3.1)\n",
    "print(5.1 / 3.1)\n",
    "\n",
    "print(5.1 // 3.1)\n",
    "print(5.1 % 3.1)"
   ]
  },
  {
   "cell_type": "markdown",
   "id": "a1687328-f4f1-4048-8ec5-ab656cc9d102",
   "metadata": {},
   "source": [
    "### Оператор присваивания"
   ]
  },
  {
   "cell_type": "code",
   "execution_count": null,
   "id": "de2ba115-57b5-494f-870c-6e9d01f07c50",
   "metadata": {},
   "outputs": [],
   "source": [
    "\"\"\"Assignment Operators\n",
    "Operators are used to perform operations on values and variables.\n",
    "\n",
    "Assign:             \"=\"\n",
    "Description:        Assign value of right side of expression to left side operand\n",
    "Syntax:             x = y + z\n",
    "\n",
    "Add and Assign:     \"+=\"\n",
    "Description:        Add and Assign: Add right side operand with left side operand and then assign to left operand\n",
    "Syntax:             a += b\n",
    "\n",
    "Subtract:           \"-=\"\n",
    "Description:        Subtract right operand from left operand and then assign to left operand\n",
    "Syntax:             a -= b\n",
    "\n",
    "Multiply:           \"*=\"\n",
    "Description:        Multiply right operand with left operand and then assign to left operand\n",
    "Syntax:             a *= b\n",
    "\n",
    "Divide:             \"/=\"\n",
    "Description:        Divide left operand with right operand and then assign to left operand\n",
    "Syntax:             a /= b\n",
    "\n",
    "Exponent:           \"**=\"\n",
    "Description:        Calculate exponent(raise power) value using operands and assign value to left operand\n",
    "Syntax:             a **= b\n",
    "\n",
    "Divide (floor):     \"//=\"\n",
    "Description:        Divide left operand with right operand and then assign the value(floor) to left operand\n",
    "Syntax:             a //= b\n",
    "\n",
    "Modulus:            \"%=\"\n",
    "Description:        Takes modulus using left and right operands and assign result to left operand\n",
    "Syntax:             a %= b\n",
    "\"\"\"\n",
    "\n",
    "number = 6\n",
    "number -= 5\n",
    "print(number)"
   ]
  },
  {
   "cell_type": "code",
   "execution_count": null,
   "id": "3fb3c57b-cdb6-4a4e-996b-3a94ed81387b",
   "metadata": {},
   "outputs": [],
   "source": [
    "salary = 10   # month salary\n",
    "print(salary)\n",
    "\n",
    "# salary = salary * 1.2\n",
    "# print(salary)\n",
    "\n",
    "salary *= 1.2\n",
    "print(salary)"
   ]
  },
  {
   "cell_type": "code",
   "execution_count": null,
   "id": "c7091f27-46e5-4174-aa7a-4a72677edfa8",
   "metadata": {},
   "outputs": [],
   "source": [
    "salary = 10   # month salary\n",
    "\n",
    "salary = salary * 12\n",
    "print(salary)"
   ]
  },
  {
   "cell_type": "code",
   "execution_count": null,
   "id": "47efbbcc-b370-4540-9c62-279c0048f200",
   "metadata": {},
   "outputs": [],
   "source": [
    "salary = 10   # month salary\n",
    "\n",
    "salary *= 12  # year salary\n",
    "print(salary)"
   ]
  },
  {
   "cell_type": "code",
   "execution_count": null,
   "id": "87f6c363-dec4-4ebb-8ed2-602ad6738981",
   "metadata": {},
   "outputs": [],
   "source": [
    "salary = 120  # year salary\n",
    "\n",
    "# month salary\n",
    "salary //= 12\n",
    "\n",
    "print(salary)"
   ]
  },
  {
   "cell_type": "code",
   "execution_count": null,
   "id": "25081b5f-510e-42a0-b3dd-18d47948d2cd",
   "metadata": {},
   "outputs": [],
   "source": [
    "a, b = 33, 200\n",
    "print(a, b)\n",
    "b, a = a, b\n",
    "print(a, b)"
   ]
  }
 ],
 "metadata": {
  "kernelspec": {
   "display_name": "Python 3 (ipykernel)",
   "language": "python",
   "name": "python3"
  },
  "language_info": {
   "codemirror_mode": {
    "name": "ipython",
    "version": 3
   },
   "file_extension": ".py",
   "mimetype": "text/x-python",
   "name": "python",
   "nbconvert_exporter": "python",
   "pygments_lexer": "ipython3",
   "version": "3.12.3"
  }
 },
 "nbformat": 4,
 "nbformat_minor": 5
}
