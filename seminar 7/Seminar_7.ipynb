{
 "cells": [
  {
   "cell_type": "markdown",
   "id": "22932a34-4d9b-4553-bd8a-747fe261b6ea",
   "metadata": {},
   "source": [
    "# Семинар 7\n",
    "\n",
    "[Ссылка на квиз семинара](https://forms.yandex.ru/cloud/67e16c6784227c28040f15b1/)"
   ]
  },
  {
   "cell_type": "markdown",
   "id": "6238a2f9-de6b-42a7-a7ca-865b395543a3",
   "metadata": {},
   "source": [
    "<details>\n",
    "  <summary>Уточнения</summary>\n",
    "    \n",
    "    - циклы с известным заранее числом повторений (классические);\n",
    "    \n",
    "    - циклы с неизвестным числом повторений (итерационные).\n",
    "</details>\n"
   ]
  },
  {
   "cell_type": "markdown",
   "id": "574bc406-346a-44a0-ae58-ce9732ec334c",
   "metadata": {},
   "source": [
    "## Задание 1\n",
    "\n",
    "Написать на псевдокоде алгоритм вывода на экран двух максимальных чисел массива\n",
    "числа в диапазоне 0 100"
   ]
  },
  {
   "cell_type": "code",
   "execution_count": null,
   "id": "b00d181e-9114-4d39-a2bb-84418c3ca1f0",
   "metadata": {},
   "outputs": [],
   "source": [
    "Алгоритм два_макс(А)\n",
    "Вход массив А\n",
    "Выход Макс1, Макс2\n",
    "Макс_1 = -10\n",
    "Макс_2 = -10\n"
   ]
  },
  {
   "attachments": {},
   "cell_type": "markdown",
   "id": "7686d4c1-a502-4dce-9d89-8727bb8c59b8",
   "metadata": {},
   "source": [
    "# Деревья (материал  [позаимствован отсюда](https://ru.hexlet.io/courses/algorithms-trees/lessons/concept/theory_unit))\n",
    "\n",
    "![folders](img/image_processing20241205-44151-dksfdc.png)\n",
    "\n",
    "![folders_struct](img/image_processing20241205-33584-r60wva.png)\n",
    "![tree_components](img/image_processing20241205-40929-4y4b8.png)\n",
    "Отсновные термины деревьев:\n",
    " - Родительский узел или предок — узел, который находится на первом уровне иерархии\n",
    " - Дочерний узел или потомок — узел, на который есть ссылки из рассматриваемого узла\n",
    " - Корневой узел — узел, на который нет ссылок из других узлов\n",
    " - Сестринские узлы — два узла, у которых общие родители\n",
    " - Листовой узел, лист дерева или терминальный узел — узел, у которого количество поддеревьев равно нулю\n",
    " - Узел ветвления или внутренняя вершина — узел, у которого есть дочерние структуры\n",
    "\n",
    "Бинарные имеют степень не более двух. То есть двоичным древом можно назвать динамическую структуру данных, где каждый узел имеет не большое 2-х потомков. \n",
    "\n",
    "**Упорядоченное дерево** — дерево, в котором все вершины отсортированы. Такие деревья еще называются плоскими, так как при последовательном обходе вершин получится отсортированный массив:\n",
    "![tree_sorted](img/image_processing20241205-45016-d198z0.png)\n",
    "\n",
    "**Полное дерево** — дерево, в котором количество дочерних узлов у каждой внутренней вершины равно степени дерева:\n",
    "![tree_sorted](img/image_processing20241205-33584-sf8pro.png)\n",
    "\n",
    "**Идеальное дерево** — полное дерево, у которого все терминальные узлы располагаются на одном уровне:\n",
    "![tree_sorted](img/image_processing20241205-44151-gnljdo.png)"
   ]
  },
  {
   "cell_type": "code",
   "execution_count": null,
   "id": "052cde00-ae9b-46c2-93cc-409da7a7ce92",
   "metadata": {},
   "outputs": [],
   "source": []
  }
 ],
 "metadata": {
  "kernelspec": {
   "display_name": "Python 3 (ipykernel)",
   "language": "python",
   "name": "python3"
  },
  "language_info": {
   "codemirror_mode": {
    "name": "ipython",
    "version": 3
   },
   "file_extension": ".py",
   "mimetype": "text/x-python",
   "name": "python",
   "nbconvert_exporter": "python",
   "pygments_lexer": "ipython3",
   "version": "3.9.6"
  }
 },
 "nbformat": 4,
 "nbformat_minor": 5
}
